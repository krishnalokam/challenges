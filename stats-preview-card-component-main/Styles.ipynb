{
 "cells": [
  {
   "cell_type": "markdown",
   "metadata": {},
   "source": [
    "# Front-end Style Guide\n",
    "\n",
    "## Layout\n",
    "\n",
    "The designs were created to the following widths:\n",
    "\n",
    "- Mobile: 375px\n",
    "- Desktop: 1440px\n",
    "\n",
    "## Colors\n",
    "\n",
    "### Primary\n",
    "\n",
    "- Very dark blue (main background): hsl(233, 47%, 7%)\n",
    "- Dark desaturated blue (card background): hsl(244, 38%, 16%)\n",
    "- Soft violet (accent): hsl(277, 64%, 61%)\n",
    "\n",
    "### Neutral\n",
    "\n",
    "- White (main heading, stats): hsl(0, 0%, 100%)\n",
    "- Slightly transparent white (main paragraph): hsla(0, 0%, 100%, 0.75)\n",
    "- Slightly transparent white (stat headings): hsla(0, 0%, 100%, 0.6)\n",
    "\n",
    "## Typography\n",
    "\n",
    "### Body Copy\n",
    "\n",
    "- Font size: 15px\n",
    "\n",
    "### Font\n",
    "\n",
    "- Family: [Inter](https://fonts.google.com/specimen/Inter)\n",
    "- Weights: 400, 700\n",
    "\n",
    "- Family: [Lexend Deca](https://fonts.google.com/specimen/Lexend+Deca)\n",
    "- Weights: 400\n"
   ]
  },
  {
   "cell_type": "code",
   "execution_count": null,
   "metadata": {},
   "outputs": [],
   "source": []
  }
 ],
 "metadata": {
  "kernelspec": {
   "display_name": "Python 3",
   "language": "python",
   "name": "python3"
  },
  "language_info": {
   "codemirror_mode": {
    "name": "ipython",
    "version": 3
   },
   "file_extension": ".py",
   "mimetype": "text/x-python",
   "name": "python",
   "nbconvert_exporter": "python",
   "pygments_lexer": "ipython3",
   "version": "3.8.5"
  }
 },
 "nbformat": 4,
 "nbformat_minor": 4
}
