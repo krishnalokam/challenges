{
 "cells": [
  {
   "cell_type": "markdown",
   "metadata": {},
   "source": [
    "# Front-end Style Guide\n",
    "\n",
    "## Layout\n",
    "\n",
    "The designs were created to the following widths:\n",
    "\n",
    "- Mobile: 375px\n",
    "- Desktop: 1440px\n",
    "\n",
    "## Colors\n",
    "\n",
    "### Primary\n",
    "\n",
    "- Pale blue: hsl(225, 100%, 94%)\n",
    "- Bright blue: hsl(245, 75%, 52%)\n",
    "\n",
    "### Neutral\n",
    "\n",
    "- Very pale blue: hsl(225, 100%, 98%)\n",
    "- Desaturated blue: hsl(224, 23%, 55%)\n",
    "- Dark blue: hsl(223, 47%, 23%)\n",
    "\n",
    "## Typography\n",
    "\n",
    "### Body Copy\n",
    "\n",
    "- Font size (paragraph): 16px\n",
    "\n",
    "### Font\n",
    "\n",
    "- Family: [Red Hat Display](https://fonts.google.com/specimen/Red+Hat+Display)\n",
    "- Weights: 500, 700, 900\n"
   ]
  },
  {
   "cell_type": "code",
   "execution_count": null,
   "metadata": {},
   "outputs": [],
   "source": []
  }
 ],
 "metadata": {
  "kernelspec": {
   "display_name": "Python 3",
   "language": "python",
   "name": "python3"
  },
  "language_info": {
   "codemirror_mode": {
    "name": "ipython",
    "version": 3
   },
   "file_extension": ".py",
   "mimetype": "text/x-python",
   "name": "python",
   "nbconvert_exporter": "python",
   "pygments_lexer": "ipython3",
   "version": "3.8.5"
  }
 },
 "nbformat": 4,
 "nbformat_minor": 4
}
